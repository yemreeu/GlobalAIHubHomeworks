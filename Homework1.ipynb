{
 "cells": [
  {
   "cell_type": "code",
   "execution_count": 3,
   "metadata": {},
   "outputs": [
    {
     "name": "stdin",
     "output_type": "stream",
     "text": [
      "Please enter an integer value:  23\n",
      "Please enter a string value:  Yunus\n",
      "Please enter a float value:  1.83\n",
      "Please enter a boolean value:  1\n",
      "Please enter a complex value:  1+j\n"
     ]
    },
    {
     "name": "stdout",
     "output_type": "stream",
     "text": [
      "The class of the value that you entered:<class 'int'>\n",
      "The class of the value that you entered:<class 'str'>\n",
      "The class of the value that you entered:<class 'float'>\n",
      "The class of the value that you entered:<class 'bool'>\n",
      "The class of the value that you entered:<class 'complex'>\n"
     ]
    }
   ],
   "source": [
    "\n",
    "var_1=int(input(\"Please enter an integer value: \"))\n",
    "var_2=str(input(\"Please enter a string value: \"))\n",
    "var_3=float(input(\"Please enter a float value: \"))\n",
    "var_4=bool(input(\"Please enter a boolean value: \"))\n",
    "var_5=complex(input(\"Please enter a complex value: \"))\n",
    "\n",
    "print(\"The class of the value that you entered:{}\".format(type(var_1)))\n",
    "print(\"The class of the value that you entered:{}\".format(type(var_2)))\n",
    "print(\"The class of the value that you entered:{}\".format(type(var_3)))\n",
    "print(\"The class of the value that you entered:{}\".format(type(var_4)))\n",
    "print(\"The class of the value that you entered:{}\".format(type(var_5)))"
   ]
  },
  {
   "cell_type": "code",
   "execution_count": null,
   "metadata": {},
   "outputs": [],
   "source": []
  }
 ],
 "metadata": {
  "kernelspec": {
   "display_name": "Python 3",
   "language": "python",
   "name": "python3"
  },
  "language_info": {
   "codemirror_mode": {
    "name": "ipython",
    "version": 3
   },
   "file_extension": ".py",
   "mimetype": "text/x-python",
   "name": "python",
   "nbconvert_exporter": "python",
   "pygments_lexer": "ipython3",
   "version": "3.9.1"
  }
 },
 "nbformat": 4,
 "nbformat_minor": 4
}
