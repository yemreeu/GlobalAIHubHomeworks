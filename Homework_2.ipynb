{
 "cells": [
  {
   "cell_type": "code",
   "execution_count": 1,
   "metadata": {},
   "outputs": [
    {
     "name": "stdin",
     "output_type": "stream",
     "text": [
      "Please enter your user name:  Yunus Emre\n",
      "Please enter your surname:  Uyanık\n",
      "Please enter your age:  23\n",
      "Please enter your birth year:  1997\n"
     ]
    },
    {
     "name": "stdout",
     "output_type": "stream",
     "text": [
      "Yunus Emre\n",
      "Uyanık\n",
      "23\n",
      "1997\n",
      "You can go out.\n"
     ]
    }
   ],
   "source": [
    "user=[]\n",
    "user_name=input(\"Please enter your user name: \")\n",
    "user_surname=input(\"Please enter your surname: \")\n",
    "user_age=int(input(\"Please enter your age: \"))\n",
    "user_birthofyear=int(input(\"Please enter your birth year: \"))\n",
    "user.append(user_name)\n",
    "user.append(user_surname)\n",
    "user.append(user_age)\n",
    "user.append(user_birthofyear)\n",
    "\n",
    "for i in user:\n",
    "    print(i)\n",
    "\n",
    "if user_age<=18:\n",
    "        print(\"You can not go out because it's too dangerous.\")\n",
    "else:\n",
    "        print(\"You can go out.\")"
   ]
  },
  {
   "cell_type": "code",
   "execution_count": null,
   "metadata": {},
   "outputs": [],
   "source": []
  }
 ],
 "metadata": {
  "kernelspec": {
   "display_name": "Python 3",
   "language": "python",
   "name": "python3"
  },
  "language_info": {
   "codemirror_mode": {
    "name": "ipython",
    "version": 3
   },
   "file_extension": ".py",
   "mimetype": "text/x-python",
   "name": "python",
   "nbconvert_exporter": "python",
   "pygments_lexer": "ipython3",
   "version": "3.9.1"
  }
 },
 "nbformat": 4,
 "nbformat_minor": 4
}
